{
 "cells": [
  {
   "cell_type": "code",
   "execution_count": 1,
   "id": "324f4b80-77c6-4e45-9d3e-f4be364c9bbc",
   "metadata": {},
   "outputs": [],
   "source": [
    "import pandas as pd\n",
    "import numpy as np\n",
    "import matplotlib.pyplot as plt\n",
    "import math as mt\n",
    "from metpy.interpolate import interpolate_to_points\n",
    "import scipy.optimize as spo"
   ]
  },
  {
   "cell_type": "code",
   "execution_count": 2,
   "id": "881ee8d0-1cac-48e8-ac12-bf9480eef3a2",
   "metadata": {},
   "outputs": [],
   "source": [
    "# creating the pulse field\n",
    "\n",
    "def gen_field(dur_max, dur_step):\n",
    "    pdur_i0 = ppau_i0 = np.arange(0, dur_max, dur_step)\n",
    "    pdur_j, ppau_j = np.meshgrid(pdur_i0, ppau_i0)\n",
    "    return pdur_j, ppau_j\n"
   ]
  },
  {
   "cell_type": "code",
   "execution_count": 3,
   "id": "81915786-7187-443c-8b06-81e98d0a5b24",
   "metadata": {},
   "outputs": [],
   "source": [
    "#Importing data from file\n",
    "\n",
    "def import_data():\n",
    "    df = pd.read_excel('dat/anuro_ppf.xls', sheet_name='PPF_margins', usecols='A:J')\n",
    "\n",
    "    pdur = df['PDUR'].values\n",
    "    ppau = df['PPAU'].values\n",
    "    phonotaxis = df['rXY'].values\n",
    "\n",
    "    dur_max = 20  # ms\n",
    "    dur_step = 0.5  # ms\n",
    "\n",
    "    # need to jitter data points slightly for interp to work - probably a bug in metpy\n",
    "    points = np.array([pdur + np.random.randn(*pdur.shape)/100, ppau + np.random.randn(*ppau.shape)/100]).T\n",
    "    \n",
    "\n",
    "    # make new grid of points to interpolate to\n",
    "    pdur_i0 = ppau_i0 = np.arange(0, dur_max, dur_step)\n",
    "    pdur_i, ppau_i = np.meshgrid(pdur_i0, ppau_i0)\n",
    "    new_points = np.array([pdur_i, ppau_i]).T.reshape((-1, 2))\n",
    "    \n",
    "    # natural neighbour interpolation \n",
    "    ppf = interpolate_to_points(points, phonotaxis, new_points, interp_type='natural_neighbor')\n",
    "    ppf[np.isnan(ppf)] = np.nanmean(ppf)\n",
    "    ppf = np.maximum(ppf, 0)  # set neg vals to 0\n",
    "    ppf = ppf.reshape((len(pdur_i), len(ppau_i))).T  # make interpolated ppf square\n",
    "    # print(np.any(np.isnan(new_points)))\n",
    "    \n",
    "    ppf /= np.max(ppf)\n",
    "    \n",
    "    return ppf"
   ]
  },
  {
   "cell_type": "code",
   "execution_count": 13,
   "id": "08b26470-7229-4686-95b4-86fd8fbf2740",
   "metadata": {},
   "outputs": [],
   "source": [
    "dur_max = 20  # ms\n",
    "dur_step = 0.5  # ms\n",
    "global pnt_ori, pdur_i, ppau_i\n",
    "pnt_ori = import_data()\n",
    "pnt_ori /= np.max(pnt_ori)\n",
    "# print(pnt_ori)\n",
    "pdur_i, ppau_i = gen_field(dur_max, dur_step)"
   ]
  },
  {
   "cell_type": "code",
   "execution_count": 14,
   "id": "1354c5db-e7f9-4f92-8236-978faca9bcff",
   "metadata": {},
   "outputs": [],
   "source": [
    "#generating the signal from the parameter duty cycle\n",
    "\n",
    "def signal(idur, ipau, sf):\n",
    "    sf = int(sf)\n",
    "    unit = (sf/1000)\n",
    "    dur = int(unit*idur)\n",
    "    pau = int(unit*ipau)\n",
    "    #print(dur, pau, unit)\n",
    "    adur = np.ones(dur, dtype = int)\n",
    "    apau = np.zeros(pau, dtype = int)\n",
    "    aper = np.concatenate((adur,apau))\n",
    "    sig2 = np.tile(aper, sf)\n",
    "    if len(sig2)>sf:\n",
    "        sig = sig2[0:sf]\n",
    "    else:\n",
    "        l = sf - len(sig2)\n",
    "        sig3 = np.zeros(l, dtype = int)\n",
    "        sig = np.concatenate((sig2, sig3))\n",
    "    return sig"
   ]
  },
  {
   "cell_type": "code",
   "execution_count": 15,
   "id": "f4d4d1ee-cb9b-400f-bc77-ecaecb1e76ce",
   "metadata": {},
   "outputs": [],
   "source": [
    "#The Gabor filter\n",
    "\n",
    "def gabor(fr, sigma, phi, w):\n",
    "    border = sigma + int(1/sigma)\n",
    "    t =  np.arange(-border, border, 1)/1000\n",
    "    gbr = ((np.exp( -(t/2*sigma)**2)) * (np.sin((2*mt.pi*fr*t) + phi)) + w) #Gabor function\n",
    "    return gbr\n",
    "\n",
    "# def gabor(fr, sigma, phi, w):\n",
    "#     border = sigma + int(2000/sigma)\n",
    "#     time =  range(-100, 100)\n",
    "#     gbr = []\n",
    "#     for i in time:\n",
    "#         t = i/1000 # to get time in milliseconds\n",
    "#         gbr.append((mt.exp( -((t*sigma)/mt.sqrt(2))**2)) * (np.sin((2*mt.pi*fr*t) + phi)) + w) #Gabor function\n",
    "#     return gbr\n",
    "\n",
    "# gaba = gabor(50, 40, 0, 0.1)\n",
    "# print(np.isnan(gaba))\n",
    "# plt.plot(gaba)\n",
    "# plt.show()"
   ]
  },
  {
   "cell_type": "code",
   "execution_count": 16,
   "id": "bfe77f48-6408-4697-b3a0-f928253952f5",
   "metadata": {},
   "outputs": [],
   "source": [
    "#linear nonlinear filtering (including the integration)\n",
    "\n",
    "def lin_nonlin(sig, gab, a1, b1):\n",
    "    f1 = np.convolve(sig, gab) #linear filter\n",
    "    \n",
    "    g1 = 1/(1 + np.exp( -(a1 * f1) + b1)) # nonlinear sigmoid function\n",
    "\n",
    "    #integral (which is basically summation)\n",
    "    v1 = 0.001 * g1.sum()\n",
    "    return v1"
   ]
  },
  {
   "cell_type": "code",
   "execution_count": 17,
   "id": "d0ac2532-e134-4113-b180-e6bda239ba48",
   "metadata": {},
   "outputs": [],
   "source": [
    "#extracting Phonotaxis value by pushing fabricated signal through filter\n",
    "\n",
    "def phonotaxis(fr, sigma, phi, w, a1, b1, sf, t1, t2):\n",
    "    sig1 = signal(t1, t2, sf)\n",
    "    gab1 = gabor(fr, sigma, phi, w)\n",
    "    phntxs = lin_nonlin(sig1, gab1, a1, b1)\n",
    "    return phntxs\n"
   ]
  },
  {
   "cell_type": "code",
   "execution_count": 51,
   "id": "eebe8de1-2fc6-4254-a1f5-c81638f441e3",
   "metadata": {},
   "outputs": [],
   "source": [
    "def plot_field(pdur_i, ppau_i, res):\n",
    "    plt.pcolor(pdur_i, ppau_i, res, cmap='Reds')\n",
    "    plt.xlim(0, np.max(pdur_i))\n",
    "    plt.ylim(0, np.max(ppau_i))\n",
    "    plt.colorbar(label='Phonotaxis')\n",
    "    plt.xlabel('Pulse [ms]')\n",
    "    plt.ylabel('Pause [ms]')\n",
    "    plt.show()"
   ]
  },
  {
   "cell_type": "code",
   "execution_count": 76,
   "id": "2d439709-eff9-47c9-b20e-cb874e4fec9c",
   "metadata": {},
   "outputs": [],
   "source": [
    "#the entire thing a a function\n",
    "\n",
    "def wholedamnthing(cfg):\n",
    "    fr, sigma, ph, w, a1, b1 = cfg #unpacking the command from gods\n",
    "    phi = np.pi * ph\n",
    "\n",
    "    # new_points = np.array([pdur_i, ppau_i]).T.reshape((-1, 2))\n",
    "    #pulse pause field sampling range and frequency(step)\n",
    "    dur_max = 20  # ms\n",
    "    dur_step = 0.5  # ms\n",
    "    #generate field\n",
    "    sf = 2000\n",
    "    \n",
    "    # pdur_i, ppau_i = gen_field(dur_max, dur_step)\n",
    "    \n",
    "    #calculating phonotaxis values\n",
    "    phono = np.vectorize(phonotaxis)\n",
    "    pnt = phono(fr, sigma, phi, w, a1, b1, sf, pdur_i, ppau_i)\n",
    "    # plot_field(pnt, pdur_i, ppau_i)\n",
    "    \n",
    "    #normalization\n",
    "    pnt = np.maximum(pnt, 0)\n",
    "    pnt = (pnt - np.min(pnt))/np.max(pnt)\n",
    "    \n",
    "    #RMS of difference\n",
    "    diff = np.mean((pnt - pnt_ori)**2)\n",
    "    \n",
    "    print(pnt.shape, pnt_ori.shape, diff)\n",
    "#     print('ori nan')\n",
    "#     print(np.any(np.isnan(pnt_ori)))\n",
    "#     print(np.sum(np.isnan(pnt_ori)))\n",
    "    \n",
    "    plot_field(pdur_i, ppau_i, pnt)\n",
    "    \n",
    "    # return diff\n"
   ]
  },
  {
   "cell_type": "code",
   "execution_count": 83,
   "id": "8fce0c85-740b-41ec-bdb5-b93d5f0911d3",
   "metadata": {},
   "outputs": [],
   "source": [
    "#the entire thing a a function\n",
    "\n",
    "def wholedamnthing2(cfg):\n",
    "    fr, sigma, ph, w, a1, b1 = cfg #unpacking the command from gods\n",
    "    phi = np.pi * ph\n",
    "\n",
    "    #generate field\n",
    "    sf = 2000\n",
    "    \n",
    "    #calculating phonotaxis values\n",
    "    phono = np.vectorize(phonotaxis)\n",
    "    pnt = phono(fr, sigma, phi, w, a1, b1, sf, pdur_i, ppau_i)\n",
    "    \n",
    "    #normalization\n",
    "    pnt = np.maximum(pnt, 0)\n",
    "    pnt = (pnt - np.min(pnt))/np.max(pnt)\n",
    "    \n",
    "    #RMS of difference\n",
    "    diff = np.mean((pnt - pnt_ori)**2)\n",
    "    \n",
    "    return diff\n"
   ]
  },
  {
   "cell_type": "code",
   "execution_count": 87,
   "id": "8111856b-cebd-48e7-864c-abee54e0e958",
   "metadata": {},
   "outputs": [
    {
     "data": {
      "text/plain": [
       "0.031874758462786985"
      ]
     },
     "execution_count": 87,
     "metadata": {},
     "output_type": "execute_result"
    }
   ],
   "source": [
    "cfg = [50, 50, 0, 0, 0.05, 1]\n",
    "\n",
    "wholedamnthing2(cfg)"
   ]
  },
  {
   "cell_type": "code",
   "execution_count": 3,
   "id": "0fafbb27-488b-42b9-8dc8-e379564beba3",
   "metadata": {},
   "outputs": [],
   "source": [
    "# #parameters for signal generation\n",
    "# sf = 2000\n",
    "\n",
    "# #PARAMETERS OF GABOR FUNCTION\n",
    "# #frequency for the Gabor filter - INFLUENCES pulse period preference\n",
    "# fr = 50\n",
    "# #sharpness of tuning for pulse period\n",
    "# sigma = 50 \n",
    "# #phase shift - change the integer to change the phase \n",
    "# phi = np.pi * 0 \n",
    "# #offset - INFLUENCES duty cycle preference\n",
    "# w = 0\n",
    "\n",
    "# #parameters for Lin_nonlinear\n",
    "# a1 = 0.05 #slope/steepness of sigmoid\n",
    "# b1 = 1 #1/2 of max of non linearity\n",
    "\n",
    "# #pulse pause field sampling range and frequency(step)\n",
    "# dur_max = 20  # ms\n",
    "# dur_step = 0.5  # ms"
   ]
  },
  {
   "cell_type": "code",
   "execution_count": 76,
   "id": "10502e8e-82d6-4e26-b6e3-aed1ab4b527b",
   "metadata": {},
   "outputs": [],
   "source": [
    "#bounds\n",
    "\n",
    "b_fr = (30, 70)\n",
    "b_sigma = (30, 100)\n",
    "b_phi = (0, 2)\n",
    "b_w = (-0.1, 0.1)\n",
    "b_a1 = (0, np.inf)\n",
    "b_b1 = (-np.inf, np.inf)\n",
    "\n",
    "bnds = (b_fr, b_sigma, b_phi, b_w, b_a1, b_b1) #, b_dur_max, b_dur_step) #if necessary \n"
   ]
  },
  {
   "cell_type": "code",
   "execution_count": 5,
   "id": "bc3daddf-4cd7-412a-9031-2bb6b9daca47",
   "metadata": {},
   "outputs": [],
   "source": [
    "#constraints\n",
    "\n",
    "c_sf = {'type' : 'eq', 'fun' : lambda sf: sf%1000}\n",
    "c_a1 = {'type' : 'ineq', 'fun' : lambda a1: a1}\n",
    "\n",
    "cons = (c_sf, c_a1)"
   ]
  },
  {
   "cell_type": "code",
   "execution_count": 6,
   "id": "3c079698-783d-4dbd-bf30-6f6891ad1368",
   "metadata": {},
   "outputs": [],
   "source": [
    "#what should I return from the function (parameter to be maximised.\n",
    "#Constraints and boundaries of each parameter"
   ]
  },
  {
   "cell_type": "code",
   "execution_count": 7,
   "id": "2587fb5c-3646-4dd1-b38d-cf539b68199a",
   "metadata": {},
   "outputs": [
    {
     "ename": "NameError",
     "evalue": "name 'wholedamnthing' is not defined",
     "output_type": "error",
     "traceback": [
      "\u001b[0;31m---------------------------------------------------------------------------\u001b[0m",
      "\u001b[0;31mNameError\u001b[0m                                 Traceback (most recent call last)",
      "Cell \u001b[0;32mIn[7], line 1\u001b[0m\n\u001b[0;32m----> 1\u001b[0m res \u001b[38;5;241m=\u001b[39m spo\u001b[38;5;241m.\u001b[39mminimize(\u001b[43mwholedamnthing\u001b[49m, cfg, options \u001b[38;5;241m=\u001b[39m {\u001b[38;5;124m\"\u001b[39m\u001b[38;5;124mdisp\u001b[39m\u001b[38;5;124m\"\u001b[39m: \u001b[38;5;28;01mTrue\u001b[39;00m},  bounds \u001b[38;5;241m=\u001b[39m bnds)\n\u001b[1;32m      3\u001b[0m \u001b[38;5;28;01mif\u001b[39;00m result\u001b[38;5;241m.\u001b[39msuccess:\n\u001b[1;32m      4\u001b[0m     \u001b[38;5;28mprint\u001b[39m(\u001b[38;5;124m\"\u001b[39m\u001b[38;5;124mSuccess!\u001b[39m\u001b[38;5;124m\"\u001b[39m)\n",
      "\u001b[0;31mNameError\u001b[0m: name 'wholedamnthing' is not defined"
     ]
    }
   ],
   "source": [
    "res = spo.minimize(wholedamnthing, cfg, options = {\"disp\": True},  bounds = bnds)\n",
    "\n",
    "if result.success:\n",
    "    print(\"Success!\")\n",
    "    plot_field(pdur_i, ppau_i, res)\n",
    "else:\n",
    "    print(\"Sorry, could not find a minimum.\")"
   ]
  },
  {
   "cell_type": "code",
   "execution_count": 63,
   "id": "ca13b817-454b-4c48-a988-9fbf67c27ae0",
   "metadata": {},
   "outputs": [
    {
     "name": "stdout",
     "output_type": "stream",
     "text": [
      "0.7822569775480468\n"
     ]
    },
    {
     "data": {
      "image/png": "[encoded data removed]",
      "text/plain": [
       "<Figure size 640x480 with 2 Axes>"
      ]
     },
     "metadata": {},
     "output_type": "display_data"
    }
   ],
   "source": [
    "df = pd.read_excel('dat/anuro_ppf.xls', sheet_name='PPF_margins', usecols='A:J')\n",
    "\n",
    "pdur = df['PDUR'].values\n",
    "ppau = df['PPAU'].values\n",
    "phonotaxis = df['rXY'].values\n",
    "\n",
    "dur_max = 20  # ms\n",
    "dur_step = 0.5  # ms\n",
    "\n",
    "# need to jitter data points slightly for interp to work - probably a bug in metpy\n",
    "points = np.array([pdur + np.random.randn(*pdur.shape)/100, ppau + np.random.randn(*ppau.shape)/100]).T\n",
    "\n",
    "\n",
    "# make new grid of points to interpolate to\n",
    "pdur_i0 = ppau_i0 = np.arange(0, dur_max, dur_step)\n",
    "pdur_i, ppau_i = np.meshgrid(pdur_i0, ppau_i0)\n",
    "new_points = np.array([pdur_i, ppau_i]).T.reshape((-1, 2))\n",
    "\n",
    "# natural neighbour interpolation \n",
    "ppf = interpolate_to_points(points, phonotaxis, new_points, interp_type='natural_neighbor')\n",
    "ppf[np.isnan(ppf)] = np.nanmean(ppf)\n",
    "ppf = np.maximum(ppf, 0)  # set neg vals to 0\n",
    "ppf = ppf.reshape((len(pdur_i), len(ppau_i))).T  # make interpolated ppf square\n",
    "\n",
    "\n",
    "y = np.max(ppf)\n",
    "\n",
    "ppf1 = ppf * (1/y)\n",
    "print(y)\n",
    "\n",
    "\n",
    "plot_field(ppf1, pdur_i, ppau_i)\n",
    "# print(np.any(np.isnan(new_points)))\n"
   ]
  },
  {
   "cell_type": "code",
   "execution_count": 46,
   "id": "1e3ada16-52e3-48b2-8c92-adbdbc92170d",
   "metadata": {},
   "outputs": [
    {
     "data": {
      "text/plain": [
       "0.05812436819297596"
      ]
     },
     "execution_count": 46,
     "metadata": {},
     "output_type": "execute_result"
    }
   ],
   "source": [
    "np.nanmean(ppf, axis=0)"
   ]
  },
  {
   "cell_type": "code",
   "execution_count": 47,
   "id": "b6486b0e-875f-4b87-b6a9-33ab29177cf6",
   "metadata": {},
   "outputs": [
    {
     "data": {
      "text/plain": [
       "array([        nan,         nan,         nan, ..., -0.00203503,\n",
       "       -0.00227538, -0.0014385 ])"
      ]
     },
     "execution_count": 47,
     "metadata": {},
     "output_type": "execute_result"
    }
   ],
   "source": [
    "ppf"
   ]
  },
  {
   "cell_type": "code",
   "execution_count": 52,
   "id": "190a60c0-ae8a-4230-9bfc-65fc9a3e166c",
   "metadata": {},
   "outputs": [],
   "source": [
    "ppf[np.isnan(ppf)] = np.nanmean(ppf)\n",
    "# /np.nanmean(ppf, axis=0)"
   ]
  },
  {
   "cell_type": "code",
   "execution_count": 53,
   "id": "36a0314a-a3da-4351-a5e1-ce4717688793",
   "metadata": {},
   "outputs": [
    {
     "data": {
      "text/plain": [
       "array([ 0.05812437,  0.05812437,  0.05812437, ..., -0.00203503,\n",
       "       -0.00227538, -0.0014385 ])"
      ]
     },
     "execution_count": 53,
     "metadata": {},
     "output_type": "execute_result"
    }
   ],
   "source": [
    "ppf"
   ]
  },
  {
   "cell_type": "code",
   "execution_count": 12,
   "id": "867a03c1-36bc-46a7-8a8d-9f783bb62e87",
   "metadata": {},
   "outputs": [
    {
     "name": "stdout",
     "output_type": "stream",
     "text": [
      "[[ 0.   0.   0.  ...  0.   0.   0. ]\n",
      " [ 0.5  0.5  0.5 ...  0.5  0.5  0.5]\n",
      " [ 1.   1.   1.  ...  1.   1.   1. ]\n",
      " ...\n",
      " [18.5 18.5 18.5 ... 18.5 18.5 18.5]\n",
      " [19.  19.  19.  ... 19.  19.  19. ]\n",
      " [19.5 19.5 19.5 ... 19.5 19.5 19.5]] [[ 0.   0.5  1.  ... 18.5 19.  19.5]\n",
      " [ 0.   0.5  1.  ... 18.5 19.  19.5]\n",
      " [ 0.   0.5  1.  ... 18.5 19.  19.5]\n",
      " ...\n",
      " [ 0.   0.5  1.  ... 18.5 19.  19.5]\n",
      " [ 0.   0.5  1.  ... 18.5 19.  19.5]\n",
      " [ 0.   0.5  1.  ... 18.5 19.  19.5]] [[0.07564551 0.07564551 0.         ... 0.0005279  0.00066963 0.00069509]\n",
      " [0.07564551 0.         0.         ... 0.06927471 0.05230508 0.03944181]\n",
      " [0.07564551 0.         0.         ... 0.13172884 0.09843885 0.07375462]\n",
      " ...\n",
      " [0.07564551 0.         0.         ... 0.         0.         0.        ]\n",
      " [0.07564551 0.         0.         ... 0.         0.         0.        ]\n",
      " [0.07564551 0.         0.         ... 0.         0.         0.        ]]\n"
     ]
    }
   ],
   "source": []
  },
  {
   "cell_type": "code",
   "execution_count": null,
   "id": "4f6a8992-677d-4101-a072-ceca5cdd43f8",
   "metadata": {},
   "outputs": [],
   "source": []
  }
 ],
 "metadata": {
  "kernelspec": {
   "display_name": "Python 3 (ipykernel)",
   "language": "python",
   "name": "python3"
  },
  "language_info": {
   "codemirror_mode": {
    "name": "ipython",
    "version": 3
   },
   "file_extension": ".py",
   "mimetype": "text/x-python",
   "name": "python",
   "nbconvert_exporter": "python",
   "pygments_lexer": "ipython3",
   "version": "3.10.8"
  }
 },
 "nbformat": 4,
 "nbformat_minor": 5
}
