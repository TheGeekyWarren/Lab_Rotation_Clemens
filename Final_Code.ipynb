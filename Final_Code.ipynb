{
 "cells": [
  {
   "cell_type": "code",
   "execution_count": 95,
   "id": "298ab3c0-fbb3-42aa-8455-5fb4fa912c65",
   "metadata": {},
   "outputs": [],
   "source": [
    "import pandas as pd\n",
    "import numpy as np\n",
    "import matplotlib.pyplot as plt\n",
    "import math as mt\n",
    "from metpy.interpolate import interpolate_to_points\n",
    "import scipy.optimize as spo\n",
    "import time "
   ]
  },
  {
   "cell_type": "code",
   "execution_count": 96,
   "id": "42f2e924-52a7-46b0-9cb8-8844a2f92ce4",
   "metadata": {},
   "outputs": [],
   "source": [
    "# creating the pulse field\n",
    "\n",
    "def gen_field(dur_max, dur_step):\n",
    "    pdur_i0 = ppau_i0 = np.arange(0, dur_max, dur_step)\n",
    "    pdur_j, ppau_j = np.meshgrid(pdur_i0, ppau_i0)\n",
    "    return pdur_j, ppau_j\n"
   ]
  },
  {
   "cell_type": "code",
   "execution_count": 97,
   "id": "2f724695-2081-41ad-ac9f-03a117320b6f",
   "metadata": {},
   "outputs": [],
   "source": [
    "#Importing data from file\n",
    "\n",
    "def import_data():\n",
    "    df = pd.read_excel('dat/anuro_ppf.xls', sheet_name='PPF_margins', usecols='A:J')\n",
    "\n",
    "    pdur = df['PDUR'].values\n",
    "    ppau = df['PPAU'].values\n",
    "    phonotaxis = df['rXY'].values\n",
    "\n",
    "    dur_max = 20  # ms\n",
    "    dur_step = 0.5  # ms\n",
    "    np.random.seed(10)\n",
    "    # need to jitter data points slightly for interp to work - probably a bug in metpy\n",
    "    points = np.array([pdur + np.random.randn(*pdur.shape)/10000000, ppau + np.random.randn(*ppau.shape)/10000000]).T\n",
    "    # points = np.array([pdur, ppau]).T\n",
    "\n",
    "\n",
    "    # make new grid of points to interpolate to\n",
    "    pdur_i0 = ppau_i0 = np.arange(0, dur_max, dur_step)\n",
    "    pdur_i, ppau_i = np.meshgrid(pdur_i0, ppau_i0)\n",
    "    new_points = np.array([pdur_i, ppau_i]).T.reshape((-1, 2))\n",
    "    \n",
    "    # natural neighbour interpolation \n",
    "    ppf = interpolate_to_points(points, phonotaxis, new_points, interp_type='natural_neighbor')\n",
    "    ppf[np.isnan(ppf)] = np.nanmean(ppf)\n",
    "    ppf = np.maximum(ppf, 0)  # set neg vals to 0\n",
    "    ppf = ppf.reshape((len(pdur_i), len(ppau_i))).T  # make interpolated ppf square\n",
    "    # print(np.any(np.isnan(new_points)))\n",
    "    \n",
    "    ppf /= np.max(ppf)\n",
    "    \n",
    "    return ppf\n"
   ]
  },
  {
   "cell_type": "code",
   "execution_count": 98,
   "id": "cd56b813-ed69-4f03-bdb8-9d883872a040",
   "metadata": {},
   "outputs": [],
   "source": [
    "#defining some global variables that are constant and used throughout the code\n",
    "\n",
    "dur_max = 20  # ms\n",
    "dur_step = 0.5  # ms\n",
    "global pnt_ori, pdur_i, ppau_i\n",
    "pnt_ori = import_data()\n",
    "pnt_ori /= np.max(pnt_ori)\n",
    "# print(pnt_ori)\n",
    "pdur_i, ppau_i = gen_field(dur_max, dur_step)"
   ]
  },
  {
   "cell_type": "code",
   "execution_count": 99,
   "id": "1fa7117d-06ea-4739-abdc-85846f690904",
   "metadata": {},
   "outputs": [],
   "source": [
    "#generating the signal from the parameter duty cycle\n",
    "\n",
    "def signal(idur, ipau, sf):\n",
    "    sf = int(sf)\n",
    "    unit = (sf/1000)\n",
    "    dur = int(unit*idur)\n",
    "    pau = int(unit*ipau)\n",
    "    #print(dur, pau, unit)\n",
    "    adur = np.ones(dur, dtype = int)\n",
    "    apau = np.zeros(pau, dtype = int)\n",
    "    aper = np.concatenate((adur,apau))\n",
    "    sig2 = np.tile(aper, sf)\n",
    "    if len(sig2)>sf:\n",
    "        sig = sig2[0:sf]\n",
    "    else:\n",
    "        l = sf - len(sig2)\n",
    "        sig3 = np.zeros(l, dtype = int)\n",
    "        sig = np.concatenate((sig2, sig3))\n",
    "    return sig"
   ]
  },
  {
   "cell_type": "code",
   "execution_count": 116,
   "id": "83956cc3-4234-43a6-ab2c-30284ac9ffb6",
   "metadata": {},
   "outputs": [],
   "source": [
    "#The Gabor filter\n",
    "\n",
    "def gabor(fr, sigma, phi, w, sf):\n",
    "    border = int((3.5*sigma)) \n",
    "    t =  np.arange(-border, border, 1000/sf) #in ms\n",
    "    gaussian = np.exp(-(t)**2/(2*sigma**2)) # in ms\n",
    "    sinusoidal = np.sin(2*np.pi*(fr/1000)*t + phi) # in KHz, ms\n",
    "    gbr =  gaussian * sinusoidal + w\n",
    "    return gbr\n"
   ]
  },
  {
   "cell_type": "code",
   "execution_count": 101,
   "id": "44bb00c4-7c5d-4517-bd81-9717903081ba",
   "metadata": {},
   "outputs": [],
   "source": [
    "#linear nonlinear filtering (including the integration)\n",
    "\n",
    "def lin_nonlin(sig, gab, a1, b1):\n",
    "    f1 = np.convolve(sig, gab) #linear filter\n",
    "    \n",
    "    g1 = 1/(1 + np.exp( -(a1 * f1) + b1)) # nonlinear sigmoid function\n",
    "\n",
    "    #integral (which is basically summation)\n",
    "    v1 = 0.001 * g1.sum()\n",
    "    return v1"
   ]
  },
  {
   "cell_type": "code",
   "execution_count": 102,
   "id": "faee15b9-1350-48cd-8504-544cc635af98",
   "metadata": {},
   "outputs": [],
   "source": [
    "#extracting Phonotaxis value by pushing fabricated signal through filter\n",
    "\n",
    "def phonotaxis(fr, sigma, phi, w, a1, b1, sf, t1, t2):\n",
    "    sig1 = signal(t1, t2, sf)\n",
    "    gab1 = gabor(fr, sigma, phi, w, sf)\n",
    "    phntxs = lin_nonlin(sig1, gab1, a1, b1)\n",
    "    return phntxs\n"
   ]
  },
  {
   "cell_type": "code",
   "execution_count": 103,
   "id": "d64ab6b7-dee9-4bdb-9056-cd7a2ecd6fd7",
   "metadata": {},
   "outputs": [],
   "source": [
    "#Plotting the data\n",
    "\n",
    "def plot_field(pdur, ppau, res):\n",
    "    plt.pcolor(pdur, ppau, res, cmap='Reds')\n",
    "    plt.xlim(0, np.max(pdur))\n",
    "    plt.ylim(0, np.max(ppau))\n",
    "    plt.colorbar(label='Phonotaxis')\n",
    "    plt.xlabel('Pulse [ms]')\n",
    "    plt.ylabel('Pause [ms]')\n",
    "    plt.show()"
   ]
  },
  {
   "cell_type": "code",
   "execution_count": 104,
   "id": "97fdbfdc-3f98-43df-b4a0-6cf96a8dd0f1",
   "metadata": {},
   "outputs": [],
   "source": [
    "#the entire model as a single function which is to be minimized \n",
    "#the function calculates the difference between the generated pulse-pause preference data and the actual experimental data imported earlier in the program.\n",
    "\n",
    "def sig_diff(cfg):\n",
    "    fr, sigma, ph, w, a1, b1 = cfg #unpacking the command from gods\n",
    "    phi = np.pi * ph\n",
    "\n",
    "    #generate field\n",
    "    sf = 2000\n",
    "    \n",
    "    #calculating phonotaxis values\n",
    "    phono = np.vectorize(phonotaxis)\n",
    "    pnt = phono(fr, sigma, phi, w, a1, b1, sf, pdur_i, ppau_i)\n",
    "    \n",
    "    #normalization\n",
    "    pnt = np.maximum(pnt, 0)\n",
    "    if (np.max(pnt) - np.min(pnt)) > 0:\n",
    "        pnt = (pnt - np.min(pnt))/(np.max(pnt) - np.min(pnt))\n",
    "    else:\n",
    "        pnt = (pnt - np.min(pnt))\n",
    "    #RMS of difference\n",
    "    diff = np.sqrt(np.mean((pnt - pnt_ori)**2))\n",
    "    \n",
    "    return diff"
   ]
  },
  {
   "cell_type": "code",
   "execution_count": 105,
   "id": "dbdb1864-138f-4164-8ac4-0ca1efffbb2e",
   "metadata": {},
   "outputs": [],
   "source": [
    "#redundant function for crossverification and plotting\n",
    "\n",
    "def sig_diff2(cfg):\n",
    "    fr, sigma, ph, w, a1, b1 = cfg #unpacking the command from gods\n",
    "    phi = np.pi * ph\n",
    "\n",
    "    #generate field\n",
    "    sf = 2000\n",
    "    \n",
    "    #calculating phonotaxis values\n",
    "    phono = np.vectorize(phonotaxis)\n",
    "    pnt = phono(fr, sigma, phi, w, a1, b1, sf, pdur_i, ppau_i)\n",
    "    \n",
    "    #normalization\n",
    "    pnt = np.maximum(pnt, 0)\n",
    "    if (np.max(pnt) - np.min(pnt)) > 0:\n",
    "        pnt = (pnt - np.min(pnt))/(np.max(pnt) - np.min(pnt))\n",
    "    else:\n",
    "        pnt = (pnt - np.min(pnt))\n",
    "    #RMS of difference\n",
    "    diff = np.sqrt(np.mean((pnt - pnt_ori)**2))\n",
    "    \n",
    "    return diff, pnt"
   ]
  },
  {
   "cell_type": "code",
   "execution_count": 106,
   "id": "5364b4be-445a-4d31-8f5c-76c8dbc0ee1d",
   "metadata": {},
   "outputs": [
    {
     "name": "stdout",
     "output_type": "stream",
     "text": [
      "0.1353713008349576\n"
     ]
    }
   ],
   "source": [
    "#setting initial values. and printing the start point of the minimize function present below\n",
    "cfg = [120, 7, 0, 0, 0.04, 0.02]\n",
    "y = sig_diff(cfg)\n",
    "print(y)\n"
   ]
  },
  {
   "cell_type": "code",
   "execution_count": 107,
   "id": "37d7d962-4c85-406e-ab04-c4403ce8fb0a",
   "metadata": {},
   "outputs": [],
   "source": [
    "#bounds of each parameter\n",
    "\n",
    "b_fr = (0, 300)\n",
    "b_sigma = (1, 101)\n",
    "b_phi = (0, 2)\n",
    "b_w = (-0.1, 0.1)\n",
    "b_a1 = (0, np.inf)\n",
    "b_b1 = (-np.inf, np.inf)\n",
    "\n",
    "bnds = (b_fr, b_sigma, b_phi, b_w, b_a1, b_b1) #, b_dur_max, b_dur_step) #if necessary \n"
   ]
  },
  {
   "cell_type": "code",
   "execution_count": 108,
   "id": "e8a12d50-723d-45a9-99f1-af1b6c30d26e",
   "metadata": {
    "tags": []
   },
   "outputs": [],
   "source": [
    "# Example parameters for signal generation\n",
    "# sf = 2000\n",
    "\n",
    "# #PARAMETERS OF GABOR FUNCTION\n",
    "# #frequency for the Gabor filter - INFLUENCES pulse period preference\n",
    "# fr = 50 #in Hz\n",
    "# #sharpness of tuning for pulse period\n",
    "# sigma = 50 \n",
    "# #phase shift - change the integer to change the phase \n",
    "# phi = np.pi * 0 \n",
    "# #offset - INFLUENCES duty cycle preference\n",
    "# w = 0\n",
    "\n",
    "# #parameters for Lin_nonlinear\n",
    "# a1 = 0.05 #slope/steepness of sigmoid\n",
    "# b1 = 1 #1/2 of max of non linearity\n",
    "\n",
    "# #pulse pause field sampling range and frequency(step)\n",
    "# dur_max = 20  # ms\n",
    "# dur_step = 0.5  # ms"
   ]
  },
  {
   "cell_type": "code",
   "execution_count": 114,
   "id": "1414d802-fad8-46b6-aab6-cdf5aeb21143",
   "metadata": {},
   "outputs": [],
   "source": [
    "#Basin hopping minimization - to find the closest fit with the existing data without getting stuck in a local minima. , 'maxfev':1500  'options' : {\"disp\": True},  \n",
    "result = spo.basinhopping(sig_diff, cfg, niter = 10, minimizer_kwargs={'bounds' : bnds, 'method' : 'L-BFGS-B'})"
   ]
  },
  {
   "cell_type": "code",
   "execution_count": 115,
   "id": "d28f1c4e-9a60-4024-9ad7-35c286ad5740",
   "metadata": {},
   "outputs": [
    {
     "name": "stdout",
     "output_type": "stream",
     "text": [
      "                    message: ['requested number of basinhopping iterations completed successfully']\n",
      "                    success: False\n",
      "                        fun: 0.11608815972599193\n",
      "                          x: [ 1.154e+02  1.000e+01  0.000e+00 -7.285e-02\n",
      "                               1.561e-01  1.108e+00]\n",
      "                        nit: 10\n",
      "      minimization_failures: 1\n",
      "                       nfev: 2891\n",
      "                       njev: 413\n",
      " lowest_optimization_result:  message: ABNORMAL_TERMINATION_IN_LNSRCH\n",
      "                              success: False\n",
      "                               status: 2\n",
      "                                  fun: 0.11608815972599193\n",
      "                                    x: [ 1.154e+02  1.000e+01  0.000e+00\n",
      "                                        -7.285e-02  1.561e-01  1.108e+00]\n",
      "                                  nit: 18\n",
      "                                  jac: [ 1.300e-04  6.036e+03  0.000e+00\n",
      "                                         0.000e+00  2.771e-04  1.076e-04]\n",
      "                                 nfev: 1057\n",
      "                                 njev: 151\n",
      "                             hess_inv: <6x6 LbfgsInvHessProduct with dtype=float64>\n"
     ]
    },
    {
     "data": {
      "image/png": "[encoded data removed]",
      "text/plain": [
       "<Figure size 640x480 with 2 Axes>"
      ]
     },
     "metadata": {},
     "output_type": "display_data"
    }
   ],
   "source": [
    "#Printing the result and the closest fit result generated from the model. \n",
    "\n",
    "print(result)\n",
    "xe = sig_diff2(result.x)\n",
    "plot_field(pdur_i, ppau_i, xe[1])"
   ]
  },
  {
   "cell_type": "code",
   "execution_count": null,
   "id": "51ecf4c2-7fa8-4613-a35e-83a9d3884478",
   "metadata": {},
   "outputs": [],
   "source": []
  }
 ],
 "metadata": {
  "kernelspec": {
   "display_name": "Python 3 (ipykernel)",
   "language": "python",
   "name": "python3"
  },
  "language_info": {
   "codemirror_mode": {
    "name": "ipython",
    "version": 3
   },
   "file_extension": ".py",
   "mimetype": "text/x-python",
   "name": "python",
   "nbconvert_exporter": "python",
   "pygments_lexer": "ipython3",
   "version": "3.10.8"
  }
 },
 "nbformat": 4,
 "nbformat_minor": 5
}
